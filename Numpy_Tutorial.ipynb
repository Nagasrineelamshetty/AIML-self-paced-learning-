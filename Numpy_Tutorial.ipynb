{
  "nbformat": 4,
  "nbformat_minor": 0,
  "metadata": {
    "colab": {
      "provenance": [],
      "authorship_tag": "ABX9TyOFYbscdMJOobBfS/ob6SBg",
      "include_colab_link": true
    },
    "kernelspec": {
      "name": "python3",
      "display_name": "Python 3"
    },
    "language_info": {
      "name": "python"
    }
  },
  "cells": [
    {
      "cell_type": "markdown",
      "metadata": {
        "id": "view-in-github",
        "colab_type": "text"
      },
      "source": [
        "<a href=\"https://colab.research.google.com/github/Nagasrineelamshetty/AIML-self-paced-learning-/blob/main/Numpy_Tutorial.ipynb\" target=\"_parent\"><img src=\"https://colab.research.google.com/assets/colab-badge.svg\" alt=\"Open In Colab\"/></a>"
      ]
    },
    {
      "cell_type": "code",
      "execution_count": 1,
      "metadata": {
        "id": "6em_nTGxFMCw"
      },
      "outputs": [],
      "source": [
        "import numpy as np\n",
        "import sys"
      ]
    },
    {
      "cell_type": "code",
      "source": [
        "a= np.array([1,2,3],dtype='int64')\n",
        "a"
      ],
      "metadata": {
        "colab": {
          "base_uri": "https://localhost:8080/"
        },
        "id": "_g8SUuGEFTDn",
        "outputId": "ca6eb863-a649-4a15-e48d-59be6674781f"
      },
      "execution_count": 16,
      "outputs": [
        {
          "output_type": "execute_result",
          "data": {
            "text/plain": [
              "array([1, 2, 3])"
            ]
          },
          "metadata": {},
          "execution_count": 16
        }
      ]
    },
    {
      "cell_type": "code",
      "source": [
        "b= np.array([[9.0,8.0,7.0],[6.0,5.0,4.0]])\n",
        "print(b)"
      ],
      "metadata": {
        "colab": {
          "base_uri": "https://localhost:8080/"
        },
        "id": "vEZMRVMNIHad",
        "outputId": "ecb69296-4437-4a21-8773-67e1c459c26c"
      },
      "execution_count": 5,
      "outputs": [
        {
          "output_type": "stream",
          "name": "stdout",
          "text": [
            "[[9. 8. 7.]\n",
            " [6. 5. 4.]]\n"
          ]
        }
      ]
    },
    {
      "cell_type": "code",
      "source": [
        "#Get Dimensions\n",
        "print(a.ndim)\n",
        "print(b.ndim)"
      ],
      "metadata": {
        "colab": {
          "base_uri": "https://localhost:8080/"
        },
        "id": "LxYQHu69IYrC",
        "outputId": "9c82a5f7-7d39-4dfd-dc88-3f83587a72eb"
      },
      "execution_count": 7,
      "outputs": [
        {
          "output_type": "stream",
          "name": "stdout",
          "text": [
            "1\n",
            "2\n"
          ]
        }
      ]
    },
    {
      "cell_type": "code",
      "source": [
        "#Get shape\n",
        "print(a.shape)\n",
        "print(b.shape)"
      ],
      "metadata": {
        "colab": {
          "base_uri": "https://localhost:8080/"
        },
        "id": "YDmHK9YoIhu-",
        "outputId": "5db92eae-1f7f-437a-9e11-bfc9be2ebd69"
      },
      "execution_count": 17,
      "outputs": [
        {
          "output_type": "stream",
          "name": "stdout",
          "text": [
            "(3,)\n",
            "(2, 3)\n"
          ]
        }
      ]
    },
    {
      "cell_type": "code",
      "source": [
        "#Get Type\n",
        "print(a.dtype)\n",
        "print(b.dtype)"
      ],
      "metadata": {
        "colab": {
          "base_uri": "https://localhost:8080/"
        },
        "id": "Tms732G1Imwt",
        "outputId": "3c7b266f-f7f9-4dc3-d617-9734c0c54cf0"
      },
      "execution_count": 18,
      "outputs": [
        {
          "output_type": "stream",
          "name": "stdout",
          "text": [
            "int64\n",
            "float64\n"
          ]
        }
      ]
    },
    {
      "cell_type": "code",
      "source": [
        "#Item size\n",
        "print(a.itemsize)\n",
        "print(b.itemsize)"
      ],
      "metadata": {
        "colab": {
          "base_uri": "https://localhost:8080/"
        },
        "id": "ryfTfaJnI2_P",
        "outputId": "ff89fd77-8f67-4ed3-f4d2-30fdf37cab2a"
      },
      "execution_count": 19,
      "outputs": [
        {
          "output_type": "stream",
          "name": "stdout",
          "text": [
            "8\n",
            "8\n"
          ]
        }
      ]
    },
    {
      "cell_type": "code",
      "source": [
        "#Get Total Size\n",
        "print(a.size*a.itemsize)\n",
        "print(a.nbytes)"
      ],
      "metadata": {
        "colab": {
          "base_uri": "https://localhost:8080/"
        },
        "id": "YbXwB5_4I935",
        "outputId": "f0dc4572-657b-4bf1-f715-4b10686a9249"
      },
      "execution_count": 20,
      "outputs": [
        {
          "output_type": "stream",
          "name": "stdout",
          "text": [
            "24\n",
            "24\n"
          ]
        }
      ]
    },
    {
      "cell_type": "markdown",
      "source": [
        "#Accessing Elements\n"
      ],
      "metadata": {
        "id": "H52F_nQmJdeI"
      }
    },
    {
      "cell_type": "code",
      "source": [
        "a=np.array([[1,2,3,4,5,6,],[8,9,10,11,12,13,]])\n",
        "print(a)"
      ],
      "metadata": {
        "colab": {
          "base_uri": "https://localhost:8080/"
        },
        "id": "yMhgDJSNJgal",
        "outputId": "46012bca-e913-42eb-d809-1781a59074e4"
      },
      "execution_count": 23,
      "outputs": [
        {
          "output_type": "stream",
          "name": "stdout",
          "text": [
            "[[ 1  2  3  4  5  6]\n",
            " [ 8  9 10 11 12 13]]\n"
          ]
        }
      ]
    },
    {
      "cell_type": "code",
      "source": [
        "#Get a specific element\n",
        "print(a[1,5])\n",
        "print(a[1,-1])"
      ],
      "metadata": {
        "colab": {
          "base_uri": "https://localhost:8080/"
        },
        "id": "LWZR3-2aJ7wh",
        "outputId": "ebedea5f-b25d-45ed-d84d-d6024b7bae20"
      },
      "execution_count": 25,
      "outputs": [
        {
          "output_type": "stream",
          "name": "stdout",
          "text": [
            "13\n",
            "13\n"
          ]
        }
      ]
    },
    {
      "cell_type": "code",
      "source": [
        "#Get a specific row\n",
        "print(a[0,:])"
      ],
      "metadata": {
        "colab": {
          "base_uri": "https://localhost:8080/"
        },
        "id": "rKyRuZ7qKL5G",
        "outputId": "94b62a60-a3b0-4507-da2c-434d39a08ebc"
      },
      "execution_count": 26,
      "outputs": [
        {
          "output_type": "stream",
          "name": "stdout",
          "text": [
            "[1 2 3 4 5 6]\n"
          ]
        }
      ]
    },
    {
      "cell_type": "code",
      "source": [
        "#Get a specific column\n",
        "print(a[:,2])"
      ],
      "metadata": {
        "colab": {
          "base_uri": "https://localhost:8080/"
        },
        "id": "tJglAw7jKSuo",
        "outputId": "5d412e72-9b3d-4c3a-8f37-f12c92296874"
      },
      "execution_count": 27,
      "outputs": [
        {
          "output_type": "stream",
          "name": "stdout",
          "text": [
            "[ 3 10]\n"
          ]
        }
      ]
    },
    {
      "cell_type": "code",
      "source": [
        "#Getting a little more fnacy [startindex:endindex:stepsize]\n",
        "print(a[0,1:6:2])\n",
        "print(a[0,1:-1:2])"
      ],
      "metadata": {
        "colab": {
          "base_uri": "https://localhost:8080/"
        },
        "id": "PdZhtfqUKcFq",
        "outputId": "8712d4b2-be20-485e-a873-fd4d382cb398"
      },
      "execution_count": 32,
      "outputs": [
        {
          "output_type": "stream",
          "name": "stdout",
          "text": [
            "[2 4 6]\n",
            "[2 4]\n"
          ]
        }
      ]
    },
    {
      "cell_type": "code",
      "source": [
        "a[1,5]=20\n",
        "print(a)\n",
        "a[:,2]=[1,2]\n",
        "print(a)"
      ],
      "metadata": {
        "colab": {
          "base_uri": "https://localhost:8080/"
        },
        "id": "mYzSUxtrLAsk",
        "outputId": "4ea77c75-123f-47cc-e770-c5d2c019b1bd"
      },
      "execution_count": 35,
      "outputs": [
        {
          "output_type": "stream",
          "name": "stdout",
          "text": [
            "[[ 1  2  5  4  5  6]\n",
            " [ 8  9  5 11 12 20]]\n",
            "[[ 1  2  1  4  5  6]\n",
            " [ 8  9  2 11 12 20]]\n"
          ]
        }
      ]
    },
    {
      "cell_type": "code",
      "source": [
        "#3-D Example\n",
        "b=np.array([[[1,2],[3,4]],[[5,6],[9,10]]])\n",
        "print(b)"
      ],
      "metadata": {
        "colab": {
          "base_uri": "https://localhost:8080/"
        },
        "id": "rkNWpHDwLUT5",
        "outputId": "82d4d15e-e711-4209-9bf9-c9bf4b429696"
      },
      "execution_count": 40,
      "outputs": [
        {
          "output_type": "stream",
          "name": "stdout",
          "text": [
            "[[[ 1  2]\n",
            "  [ 3  4]]\n",
            "\n",
            " [[ 5  6]\n",
            "  [ 9 10]]]\n"
          ]
        }
      ]
    },
    {
      "cell_type": "code",
      "source": [
        "#Get Specific element\n",
        "print(b[0,1,1])"
      ],
      "metadata": {
        "colab": {
          "base_uri": "https://localhost:8080/"
        },
        "id": "mgBqlx0KLi8a",
        "outputId": "ea8dcf62-5d8c-4954-99dd-46b0df3ee506"
      },
      "execution_count": 41,
      "outputs": [
        {
          "output_type": "stream",
          "name": "stdout",
          "text": [
            "4\n"
          ]
        }
      ]
    },
    {
      "cell_type": "code",
      "source": [
        "print(b[:,0,:])"
      ],
      "metadata": {
        "colab": {
          "base_uri": "https://localhost:8080/"
        },
        "id": "O_qIlUhDMDn1",
        "outputId": "e76dc446-35f5-4b5b-b767-a92088085764"
      },
      "execution_count": 43,
      "outputs": [
        {
          "output_type": "stream",
          "name": "stdout",
          "text": [
            "[[1 2]\n",
            " [5 6]]\n"
          ]
        }
      ]
    },
    {
      "cell_type": "code",
      "source": [
        "b[:,1,:]=[[9,9,],[9,9,]]\n",
        "print(b)"
      ],
      "metadata": {
        "colab": {
          "base_uri": "https://localhost:8080/"
        },
        "id": "qcW9zf1dMdgf",
        "outputId": "0a48ce86-caff-488a-c262-e77018889911"
      },
      "execution_count": 46,
      "outputs": [
        {
          "output_type": "stream",
          "name": "stdout",
          "text": [
            "[[[1 2]\n",
            "  [9 9]]\n",
            "\n",
            " [[5 6]\n",
            "  [9 9]]]\n"
          ]
        }
      ]
    },
    {
      "cell_type": "markdown",
      "source": [
        "#Initializing different types of Arrays"
      ],
      "metadata": {
        "id": "KzXbpkTTMuOF"
      }
    },
    {
      "cell_type": "code",
      "source": [
        "#All zeros Matrux\n",
        "np.zeros((2,3,3,2))"
      ],
      "metadata": {
        "colab": {
          "base_uri": "https://localhost:8080/"
        },
        "id": "hYki7-CRMyUL",
        "outputId": "3f3c9f37-1b86-45b1-fc62-1d960d28491a"
      },
      "execution_count": 51,
      "outputs": [
        {
          "output_type": "execute_result",
          "data": {
            "text/plain": [
              "array([[[[0., 0.],\n",
              "         [0., 0.],\n",
              "         [0., 0.]],\n",
              "\n",
              "        [[0., 0.],\n",
              "         [0., 0.],\n",
              "         [0., 0.]],\n",
              "\n",
              "        [[0., 0.],\n",
              "         [0., 0.],\n",
              "         [0., 0.]]],\n",
              "\n",
              "\n",
              "       [[[0., 0.],\n",
              "         [0., 0.],\n",
              "         [0., 0.]],\n",
              "\n",
              "        [[0., 0.],\n",
              "         [0., 0.],\n",
              "         [0., 0.]],\n",
              "\n",
              "        [[0., 0.],\n",
              "         [0., 0.],\n",
              "         [0., 0.]]]])"
            ]
          },
          "metadata": {},
          "execution_count": 51
        }
      ]
    },
    {
      "cell_type": "code",
      "source": [
        "#All ones\n",
        "np.ones((4,3,2),dtype='int32')"
      ],
      "metadata": {
        "colab": {
          "base_uri": "https://localhost:8080/"
        },
        "id": "-o4AjZwtM-12",
        "outputId": "2e6938ab-0766-4adc-85c0-9f87d5f41a4a"
      },
      "execution_count": 52,
      "outputs": [
        {
          "output_type": "execute_result",
          "data": {
            "text/plain": [
              "array([[[1, 1],\n",
              "        [1, 1],\n",
              "        [1, 1]],\n",
              "\n",
              "       [[1, 1],\n",
              "        [1, 1],\n",
              "        [1, 1]],\n",
              "\n",
              "       [[1, 1],\n",
              "        [1, 1],\n",
              "        [1, 1]],\n",
              "\n",
              "       [[1, 1],\n",
              "        [1, 1],\n",
              "        [1, 1]]], dtype=int32)"
            ]
          },
          "metadata": {},
          "execution_count": 52
        }
      ]
    },
    {
      "cell_type": "code",
      "source": [
        "#Any other number\n",
        "np.full((3,3),99,dtype='float32')"
      ],
      "metadata": {
        "colab": {
          "base_uri": "https://localhost:8080/"
        },
        "id": "QpabjeO7NLpT",
        "outputId": "589f473c-8a4e-4907-d28a-54c2ede67a2d"
      },
      "execution_count": 55,
      "outputs": [
        {
          "output_type": "execute_result",
          "data": {
            "text/plain": [
              "array([[99., 99., 99.],\n",
              "       [99., 99., 99.],\n",
              "       [99., 99., 99.]], dtype=float32)"
            ]
          },
          "metadata": {},
          "execution_count": 55
        }
      ]
    },
    {
      "cell_type": "code",
      "source": [
        "#Any other number(full_like)\n",
        "np.full_like(a,4)\n",
        "np.full(a.shape,4)"
      ],
      "metadata": {
        "colab": {
          "base_uri": "https://localhost:8080/"
        },
        "id": "CjkgUPLxNUqW",
        "outputId": "d0581e06-20f3-436b-a2ad-1227afa10535"
      },
      "execution_count": 57,
      "outputs": [
        {
          "output_type": "execute_result",
          "data": {
            "text/plain": [
              "array([[4, 4, 4, 4, 4, 4],\n",
              "       [4, 4, 4, 4, 4, 4]])"
            ]
          },
          "metadata": {},
          "execution_count": 57
        }
      ]
    },
    {
      "cell_type": "code",
      "source": [
        "#Random decimal numbers\n",
        "np.random.rand(9,9)"
      ],
      "metadata": {
        "colab": {
          "base_uri": "https://localhost:8080/"
        },
        "id": "bQTpesnRN4ue",
        "outputId": "5f169488-11bb-411f-cb7d-0b8fac81afb0"
      },
      "execution_count": 58,
      "outputs": [
        {
          "output_type": "execute_result",
          "data": {
            "text/plain": [
              "array([[0.92560738, 0.78113184, 0.63491633, 0.30811285, 0.28143282,\n",
              "        0.70374308, 0.79926756, 0.44603488, 0.77002773],\n",
              "       [0.37196557, 0.87085997, 0.15367611, 0.76790212, 0.4085197 ,\n",
              "        0.69256209, 0.82840041, 0.28056811, 0.86036494],\n",
              "       [0.16720401, 0.0511342 , 0.3243375 , 0.67549382, 0.60197797,\n",
              "        0.14520574, 0.20043385, 0.92013658, 0.70253696],\n",
              "       [0.82973389, 0.87157463, 0.07638011, 0.37437873, 0.62787528,\n",
              "        0.78499536, 0.92249846, 0.79701126, 0.29771671],\n",
              "       [0.31031063, 0.67398292, 0.92524012, 0.62650584, 0.66342859,\n",
              "        0.56430331, 0.54636776, 0.85952447, 0.85182051],\n",
              "       [0.99623957, 0.87877931, 0.53834517, 0.49735132, 0.12237266,\n",
              "        0.86849067, 0.47211013, 0.62040811, 0.42483624],\n",
              "       [0.23365284, 0.24569283, 0.28705031, 0.01204527, 0.2694977 ,\n",
              "        0.53651146, 0.75357893, 0.17590988, 0.78415752],\n",
              "       [0.27688741, 0.41927871, 0.33325933, 0.03517933, 0.82839981,\n",
              "        0.0324555 , 0.78959797, 0.21809466, 0.8765982 ],\n",
              "       [0.17791857, 0.4105595 , 0.82441785, 0.84739528, 0.83307063,\n",
              "        0.86140496, 0.45470008, 0.41590756, 0.05830388]])"
            ]
          },
          "metadata": {},
          "execution_count": 58
        }
      ]
    },
    {
      "cell_type": "code",
      "source": [
        "np.random.random_sample(a.shape)"
      ],
      "metadata": {
        "colab": {
          "base_uri": "https://localhost:8080/"
        },
        "id": "dU1NLxWrORtU",
        "outputId": "34d7524c-8729-4a3f-e8c5-b0eb2ad16997"
      },
      "execution_count": 59,
      "outputs": [
        {
          "output_type": "execute_result",
          "data": {
            "text/plain": [
              "array([[0.37149197, 0.02593385, 0.18073518, 0.9887438 , 0.74734831,\n",
              "        0.30301605],\n",
              "       [0.39157701, 0.0111627 , 0.67436814, 0.62341513, 0.40149579,\n",
              "        0.42358316]])"
            ]
          },
          "metadata": {},
          "execution_count": 59
        }
      ]
    },
    {
      "cell_type": "code",
      "source": [
        "#Randome Integer values\n",
        "np.random.randint(4,10,size=(3,3))#start point and size"
      ],
      "metadata": {
        "colab": {
          "base_uri": "https://localhost:8080/"
        },
        "id": "0HP20w0-Oezm",
        "outputId": "164e824f-b5c6-4cd0-8fb7-02ce02ffd420"
      },
      "execution_count": 65,
      "outputs": [
        {
          "output_type": "execute_result",
          "data": {
            "text/plain": [
              "array([[5, 8, 8],\n",
              "       [5, 4, 8],\n",
              "       [9, 8, 7]])"
            ]
          },
          "metadata": {},
          "execution_count": 65
        }
      ]
    },
    {
      "cell_type": "code",
      "source": [
        "#Identity matrix\n",
        "np.identity(3)"
      ],
      "metadata": {
        "colab": {
          "base_uri": "https://localhost:8080/"
        },
        "id": "mMAFRZJkPB0A",
        "outputId": "39c3f23f-7e4d-4b35-b363-8b2d6b62c31c"
      },
      "execution_count": 66,
      "outputs": [
        {
          "output_type": "execute_result",
          "data": {
            "text/plain": [
              "array([[1., 0., 0.],\n",
              "       [0., 1., 0.],\n",
              "       [0., 0., 1.]])"
            ]
          },
          "metadata": {},
          "execution_count": 66
        }
      ]
    },
    {
      "cell_type": "code",
      "source": [
        "#Repeating arrays\n",
        "arr=np.array([[1,2,3]])\n",
        "r1=np.repeat(arr,9,axis=1)\n",
        "print(r1)"
      ],
      "metadata": {
        "colab": {
          "base_uri": "https://localhost:8080/"
        },
        "id": "YNgLC1yIPUKX",
        "outputId": "0a8b6029-228e-4c83-8f46-2c264bb7f770"
      },
      "execution_count": 72,
      "outputs": [
        {
          "output_type": "stream",
          "name": "stdout",
          "text": [
            "[[1 1 1 1 1 1 1 1 1 2 2 2 2 2 2 2 2 2 3 3 3 3 3 3 3 3 3]]\n"
          ]
        }
      ]
    },
    {
      "cell_type": "code",
      "source": [
        "output=np.ones((5,5))\n",
        "print(output)\n",
        "z=np.zeros((3,3))\n",
        "z[1,1]= 9\n",
        "print(z)\n",
        "output[1:4,1:4]=z\n",
        "print(output)"
      ],
      "metadata": {
        "colab": {
          "base_uri": "https://localhost:8080/"
        },
        "id": "QVfdLRXlT837",
        "outputId": "e98f631d-c400-4861-aefe-f60f1fbb5a3d"
      },
      "execution_count": 77,
      "outputs": [
        {
          "output_type": "stream",
          "name": "stdout",
          "text": [
            "[[1. 1. 1. 1. 1.]\n",
            " [1. 1. 1. 1. 1.]\n",
            " [1. 1. 1. 1. 1.]\n",
            " [1. 1. 1. 1. 1.]\n",
            " [1. 1. 1. 1. 1.]]\n",
            "[[0. 0. 0.]\n",
            " [0. 9. 0.]\n",
            " [0. 0. 0.]]\n",
            "[[1. 1. 1. 1. 1.]\n",
            " [1. 0. 0. 0. 1.]\n",
            " [1. 0. 9. 0. 1.]\n",
            " [1. 0. 0. 0. 1.]\n",
            " [1. 1. 1. 1. 1.]]\n"
          ]
        }
      ]
    },
    {
      "cell_type": "markdown",
      "source": [
        "#Be careful when copying arrays"
      ],
      "metadata": {
        "id": "ftjkoAJtVk2Y"
      }
    },
    {
      "cell_type": "code",
      "source": [
        "a=np.array([1,2,3])\n",
        "b=a\n",
        "print(b)\n",
        "b[0]=100\n",
        "print(b)\n",
        "print(a)#changed too because of same referencing"
      ],
      "metadata": {
        "colab": {
          "base_uri": "https://localhost:8080/"
        },
        "id": "fcYZ__OzVRd1",
        "outputId": "5cbe4848-2d48-4813-c679-9dd8656f4449"
      },
      "execution_count": 80,
      "outputs": [
        {
          "output_type": "stream",
          "name": "stdout",
          "text": [
            "[1 2 3]\n",
            "[100   2   3]\n",
            "[100   2   3]\n"
          ]
        }
      ]
    },
    {
      "cell_type": "code",
      "source": [
        "a=np.array([1,2,3])\n",
        "b=a.copy()#Only copying\n",
        "print(b)\n",
        "b[0]=100\n",
        "print(b)\n",
        "print(a)"
      ],
      "metadata": {
        "colab": {
          "base_uri": "https://localhost:8080/"
        },
        "id": "u6h_EzcjVqLP",
        "outputId": "faed70b0-97e9-4e2a-a7d0-f13fde1f4b5e"
      },
      "execution_count": 81,
      "outputs": [
        {
          "output_type": "stream",
          "name": "stdout",
          "text": [
            "[1 2 3]\n",
            "[100   2   3]\n",
            "[1 2 3]\n"
          ]
        }
      ]
    },
    {
      "cell_type": "markdown",
      "source": [
        "##Mathematics"
      ],
      "metadata": {
        "id": "BjFEftZmV-I7"
      }
    },
    {
      "cell_type": "code",
      "source": [
        "a= np.array([1,2,3,4])\n",
        "print(a)"
      ],
      "metadata": {
        "colab": {
          "base_uri": "https://localhost:8080/"
        },
        "id": "wNtGA0a2WBEe",
        "outputId": "58afa3ef-3846-4940-e331-2b9e1c6d5365"
      },
      "execution_count": 82,
      "outputs": [
        {
          "output_type": "stream",
          "name": "stdout",
          "text": [
            "[1 2 3 4]\n"
          ]
        }
      ]
    },
    {
      "cell_type": "code",
      "source": [
        "a+2"
      ],
      "metadata": {
        "colab": {
          "base_uri": "https://localhost:8080/"
        },
        "id": "yu3WYL-iWHiP",
        "outputId": "530b285c-0155-4319-ebf4-cb36b9aa5fc5"
      },
      "execution_count": 83,
      "outputs": [
        {
          "output_type": "execute_result",
          "data": {
            "text/plain": [
              "array([3, 4, 5, 6])"
            ]
          },
          "metadata": {},
          "execution_count": 83
        }
      ]
    },
    {
      "cell_type": "code",
      "source": [
        "a-2"
      ],
      "metadata": {
        "colab": {
          "base_uri": "https://localhost:8080/"
        },
        "id": "jiMrCzuTWJA1",
        "outputId": "d3ffb953-2372-4e7a-8162-91405ae34ca3"
      },
      "execution_count": 84,
      "outputs": [
        {
          "output_type": "execute_result",
          "data": {
            "text/plain": [
              "array([-1,  0,  1,  2])"
            ]
          },
          "metadata": {},
          "execution_count": 84
        }
      ]
    },
    {
      "cell_type": "code",
      "source": [
        "a*2"
      ],
      "metadata": {
        "colab": {
          "base_uri": "https://localhost:8080/"
        },
        "id": "KqfxJN-1WLRs",
        "outputId": "4695d00e-e2e1-4793-fa7d-7a3c4e1e2beb"
      },
      "execution_count": 85,
      "outputs": [
        {
          "output_type": "execute_result",
          "data": {
            "text/plain": [
              "array([2, 4, 6, 8])"
            ]
          },
          "metadata": {},
          "execution_count": 85
        }
      ]
    },
    {
      "cell_type": "code",
      "source": [
        "a/2"
      ],
      "metadata": {
        "colab": {
          "base_uri": "https://localhost:8080/"
        },
        "id": "rPjV8PckWM2q",
        "outputId": "8cd87858-1f23-423f-85ef-acc10e2092a6"
      },
      "execution_count": 86,
      "outputs": [
        {
          "output_type": "execute_result",
          "data": {
            "text/plain": [
              "array([0.5, 1. , 1.5, 2. ])"
            ]
          },
          "metadata": {},
          "execution_count": 86
        }
      ]
    },
    {
      "cell_type": "code",
      "source": [
        "b= np.array([1,0,1,0])\n",
        "a+b"
      ],
      "metadata": {
        "colab": {
          "base_uri": "https://localhost:8080/"
        },
        "id": "54luwX8PWOLx",
        "outputId": "0a5daaf5-704e-4065-d3aa-4fd9bc2354a8"
      },
      "execution_count": 87,
      "outputs": [
        {
          "output_type": "execute_result",
          "data": {
            "text/plain": [
              "array([2, 2, 4, 4])"
            ]
          },
          "metadata": {},
          "execution_count": 87
        }
      ]
    },
    {
      "cell_type": "code",
      "source": [
        "a**2"
      ],
      "metadata": {
        "colab": {
          "base_uri": "https://localhost:8080/"
        },
        "id": "99b5TyNdWry8",
        "outputId": "b3f9e1e1-b777-4aa4-9905-155b673bbb74"
      },
      "execution_count": 88,
      "outputs": [
        {
          "output_type": "execute_result",
          "data": {
            "text/plain": [
              "array([ 1,  4,  9, 16])"
            ]
          },
          "metadata": {},
          "execution_count": 88
        }
      ]
    },
    {
      "cell_type": "code",
      "source": [
        "#take the sin\n",
        "np.sin(a)\n",
        "print(np.cos(a))"
      ],
      "metadata": {
        "colab": {
          "base_uri": "https://localhost:8080/"
        },
        "id": "-M7UQuPjWufM",
        "outputId": "4447f58a-e6b8-49b2-f0df-a1f26df56a71"
      },
      "execution_count": 91,
      "outputs": [
        {
          "output_type": "stream",
          "name": "stdout",
          "text": [
            "[ 0.54030231 -0.41614684 -0.9899925  -0.65364362]\n"
          ]
        }
      ]
    },
    {
      "cell_type": "markdown",
      "source": [
        "####Linear Algebra"
      ],
      "metadata": {
        "id": "R9HUC7q4XD4A"
      }
    },
    {
      "cell_type": "code",
      "source": [
        "a=np.ones((2,3))\n",
        "print(a)\n",
        "\n",
        "b=np.full((3,2),2)\n",
        "print(b)"
      ],
      "metadata": {
        "colab": {
          "base_uri": "https://localhost:8080/"
        },
        "id": "cOOIzLMjWyme",
        "outputId": "a93d1e0e-5ba7-460e-dcd5-cd6d61860135"
      },
      "execution_count": 96,
      "outputs": [
        {
          "output_type": "stream",
          "name": "stdout",
          "text": [
            "[[1. 1. 1.]\n",
            " [1. 1. 1.]]\n",
            "[[2 2]\n",
            " [2 2]\n",
            " [2 2]]\n"
          ]
        }
      ]
    },
    {
      "cell_type": "code",
      "source": [
        "np.matmul(a,b)"
      ],
      "metadata": {
        "colab": {
          "base_uri": "https://localhost:8080/"
        },
        "id": "JzH5OBO-XYDf",
        "outputId": "fa8f7f16-d5be-455a-a9df-c8d20effe018"
      },
      "execution_count": 97,
      "outputs": [
        {
          "output_type": "execute_result",
          "data": {
            "text/plain": [
              "array([[6., 6.],\n",
              "       [6., 6.]])"
            ]
          },
          "metadata": {},
          "execution_count": 97
        }
      ]
    },
    {
      "cell_type": "code",
      "source": [
        "#Finding the determinant\n",
        "c= np.identity(3)\n",
        "np.linalg.det(c)"
      ],
      "metadata": {
        "colab": {
          "base_uri": "https://localhost:8080/"
        },
        "id": "ILh0dj92XlCY",
        "outputId": "23df6d97-759e-401c-9074-7d1ae2fd7f8a"
      },
      "execution_count": 98,
      "outputs": [
        {
          "output_type": "execute_result",
          "data": {
            "text/plain": [
              "np.float64(1.0)"
            ]
          },
          "metadata": {},
          "execution_count": 98
        }
      ]
    },
    {
      "cell_type": "markdown",
      "source": [
        "###Statistus"
      ],
      "metadata": {
        "id": "hVkKSv-OX44U"
      }
    },
    {
      "cell_type": "code",
      "source": [
        "stats= np.array([[1,2,3],[4,5,6]])\n",
        "stats\n",
        "print(np.min(stats,axis=1))#axis=1 row wise and if axis=0 entire matrix\n",
        "print(np.max(stats))\n",
        "print(np.sum(stats))\n",
        "print(np.sum(stats,axis=0))"
      ],
      "metadata": {
        "colab": {
          "base_uri": "https://localhost:8080/"
        },
        "id": "nizPNNSUXtVD",
        "outputId": "f37d665c-2af5-4b02-d014-295a59ab979c"
      },
      "execution_count": 103,
      "outputs": [
        {
          "output_type": "stream",
          "name": "stdout",
          "text": [
            "[1 4]\n",
            "6\n",
            "21\n",
            "[5 7 9]\n"
          ]
        }
      ]
    },
    {
      "cell_type": "markdown",
      "source": [
        "###Reorganizing Arrays"
      ],
      "metadata": {
        "id": "P5-UfavdYgu3"
      }
    },
    {
      "cell_type": "code",
      "source": [
        "before= np.array([[1,2,3,4],[5,6,7,8]])\n",
        "print(before)\n",
        "after= before.reshape((8,1))\n",
        "print(after)"
      ],
      "metadata": {
        "colab": {
          "base_uri": "https://localhost:8080/"
        },
        "id": "Tgc9sdXFYixg",
        "outputId": "b9192d8a-0925-4e21-adfc-6034287385fb"
      },
      "execution_count": 107,
      "outputs": [
        {
          "output_type": "stream",
          "name": "stdout",
          "text": [
            "[[1 2 3 4]\n",
            " [5 6 7 8]]\n",
            "[[1]\n",
            " [2]\n",
            " [3]\n",
            " [4]\n",
            " [5]\n",
            " [6]\n",
            " [7]\n",
            " [8]]\n"
          ]
        }
      ]
    },
    {
      "cell_type": "code",
      "source": [
        "#Vertically stacking matrices\n",
        "v1= np.array([1,2,3,4])\n",
        "v2= np.array([5,6,7,8])\n",
        "np.vstack([v1,v2])"
      ],
      "metadata": {
        "colab": {
          "base_uri": "https://localhost:8080/"
        },
        "id": "A1wQN9bJZFGo",
        "outputId": "f089e953-5858-4c8e-a343-3b94c3e72b48"
      },
      "execution_count": 108,
      "outputs": [
        {
          "output_type": "execute_result",
          "data": {
            "text/plain": [
              "array([[1, 2, 3, 4],\n",
              "       [5, 6, 7, 8]])"
            ]
          },
          "metadata": {},
          "execution_count": 108
        }
      ]
    },
    {
      "cell_type": "code",
      "source": [
        "#Horizontal Stacks\n",
        "np.hstack([v1,v2])\n",
        "h1= np.ones((2,4))\n",
        "h2= np.zeros((2,2))\n",
        "print(np.hstack([h1,h2]))"
      ],
      "metadata": {
        "colab": {
          "base_uri": "https://localhost:8080/"
        },
        "id": "mte4twUaZTBh",
        "outputId": "d65a5617-eea1-4f13-a6d0-fc75d31dd660"
      },
      "execution_count": 111,
      "outputs": [
        {
          "output_type": "stream",
          "name": "stdout",
          "text": [
            "[[1. 1. 1. 1. 0. 0.]\n",
            " [1. 1. 1. 1. 0. 0.]]\n"
          ]
        }
      ]
    },
    {
      "cell_type": "markdown",
      "source": [
        "###Miscellaneous"
      ],
      "metadata": {
        "id": "55MG3D5FZxAX"
      }
    },
    {
      "cell_type": "code",
      "source": [
        "filedata=np.genfromtxt('datanumpy.txt',delimiter=',')\n",
        "print(filedata)\n",
        "filedata= filedata.astype('int32')\n",
        "print(filedata)"
      ],
      "metadata": {
        "colab": {
          "base_uri": "https://localhost:8080/"
        },
        "id": "rRnG1NtRZwmT",
        "outputId": "aebf4b14-c9df-4f66-d0d9-34dadf3f9098"
      },
      "execution_count": 116,
      "outputs": [
        {
          "output_type": "stream",
          "name": "stdout",
          "text": [
            "[[  1.  99.   3.   4.   5.   6.]\n",
            " [ 19.  21.   0. 900.   9.   3.]\n",
            " [ 31.  32.  33.  49.  33.  54.]]\n",
            "[[  1  99   3   4   5   6]\n",
            " [ 19  21   0 900   9   3]\n",
            " [ 31  32  33  49  33  54]]\n"
          ]
        }
      ]
    },
    {
      "cell_type": "markdown",
      "source": [
        "###Boolean Masking and Advanced Indexing"
      ],
      "metadata": {
        "id": "e2K4Gx0ueFiJ"
      }
    },
    {
      "cell_type": "code",
      "source": [
        "print(filedata>6)\n",
        "print(filedata[filedata>60])"
      ],
      "metadata": {
        "colab": {
          "base_uri": "https://localhost:8080/"
        },
        "id": "A_2HmEoDd4Ke",
        "outputId": "ae145b8f-f72f-4b0d-9e22-c9b16edefce9"
      },
      "execution_count": 118,
      "outputs": [
        {
          "output_type": "stream",
          "name": "stdout",
          "text": [
            "[[False  True False False False False]\n",
            " [ True  True False  True  True False]\n",
            " [ True  True  True  True  True  True]]\n",
            "[ 99 900]\n"
          ]
        }
      ]
    },
    {
      "cell_type": "code",
      "source": [
        "#You can index with a list in numPy\n",
        "a=np.array([1,2,3,4,5,6,7,8,9])\n",
        "print(a[[1,2,8]])"
      ],
      "metadata": {
        "colab": {
          "base_uri": "https://localhost:8080/"
        },
        "id": "Yz9JJdpcehBj",
        "outputId": "8c7667c5-bd2d-477b-bbdb-2e9cec6eef25"
      },
      "execution_count": 120,
      "outputs": [
        {
          "output_type": "stream",
          "name": "stdout",
          "text": [
            "[2 3 9]\n"
          ]
        }
      ]
    },
    {
      "cell_type": "code",
      "source": [
        "print(np.any(filedata>60,axis=0))\n",
        "print(np.all(filedata>60,axis=0))"
      ],
      "metadata": {
        "colab": {
          "base_uri": "https://localhost:8080/"
        },
        "id": "IX7lTN2ze7oB",
        "outputId": "99d0af4e-c807-4794-941f-71de863cacb4"
      },
      "execution_count": 123,
      "outputs": [
        {
          "output_type": "stream",
          "name": "stdout",
          "text": [
            "[False  True False  True False False]\n",
            "[False False False False False False]\n"
          ]
        }
      ]
    },
    {
      "cell_type": "code",
      "source": [
        "print((filedata>60) & (filedata<100))"
      ],
      "metadata": {
        "colab": {
          "base_uri": "https://localhost:8080/"
        },
        "id": "PCYNlSaifPlp",
        "outputId": "29eb50cb-6785-4535-af43-71d539241cda"
      },
      "execution_count": 125,
      "outputs": [
        {
          "output_type": "stream",
          "name": "stdout",
          "text": [
            "[[False  True False False False False]\n",
            " [False False False False False False]\n",
            " [False False False False False False]]\n"
          ]
        }
      ]
    },
    {
      "cell_type": "code",
      "source": [
        "print(~(filedata>60) & (filedata<100))"
      ],
      "metadata": {
        "colab": {
          "base_uri": "https://localhost:8080/"
        },
        "id": "bAXVVDoVfpn3",
        "outputId": "1409f510-0e2a-4df6-dbbd-38fe0d233bd6"
      },
      "execution_count": 126,
      "outputs": [
        {
          "output_type": "stream",
          "name": "stdout",
          "text": [
            "[[ True False  True  True  True  True]\n",
            " [ True  True  True False  True  True]\n",
            " [ True  True  True  True  True  True]]\n"
          ]
        }
      ]
    },
    {
      "cell_type": "markdown",
      "source": [],
      "metadata": {
        "id": "WOXW38sKegl2"
      }
    },
    {
      "cell_type": "code",
      "source": [],
      "metadata": {
        "id": "Fxj53ZeWfvMd"
      },
      "execution_count": null,
      "outputs": []
    },
    {
      "cell_type": "markdown",
      "source": [],
      "metadata": {
        "id": "037oXAgcZv_2"
      }
    }
  ]
}